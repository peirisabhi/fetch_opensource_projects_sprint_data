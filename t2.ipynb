{
 "cells": [
  {
   "cell_type": "code",
   "id": "initial_id",
   "metadata": {
    "collapsed": true,
    "ExecuteTime": {
     "end_time": "2025-03-23T17:40:07.841105Z",
     "start_time": "2025-03-23T17:40:07.360283Z"
    }
   },
   "source": [
    "import requests\n",
    "import pandas as pd\n",
    "import time\n",
    "import json\n",
    "\n",
    "from requests.auth import HTTPBasicAuth"
   ],
   "outputs": [],
   "execution_count": 1
  },
  {
   "metadata": {
    "ExecuteTime": {
     "end_time": "2025-03-23T17:40:07.854560Z",
     "start_time": "2025-03-23T17:40:07.851149Z"
    }
   },
   "cell_type": "code",
   "source": [
    "USERNAME = \"feenionloyed\"\n",
    "PASSWORD = \"2001adp@549\""
   ],
   "id": "ea78aed53fb8271d",
   "outputs": [],
   "execution_count": 2
  },
  {
   "metadata": {
    "ExecuteTime": {
     "end_time": "2025-03-23T17:40:07.981309Z",
     "start_time": "2025-03-23T17:40:07.978829Z"
    }
   },
   "cell_type": "code",
   "source": [
    "# Store all data\n",
    "all_boards = []\n",
    "all_sprints = []\n",
    "all_issues = []\n",
    "all_backlog_issues = []"
   ],
   "id": "23e5fea93774e6f2",
   "outputs": [],
   "execution_count": 3
  },
  {
   "metadata": {
    "ExecuteTime": {
     "end_time": "2025-03-23T17:51:30.035201Z",
     "start_time": "2025-03-23T17:51:30.029811Z"
    }
   },
   "cell_type": "code",
   "source": [
    "# Get all boards\n",
    "def fetch_all_boards():\n",
    "    boards = []\n",
    "    start_at = 0\n",
    "    max_results = 50\n",
    "    is_last = False\n",
    "\n",
    "    while not is_last:\n",
    "        url = f\"https://issues.apache.org/jira/rest/agile/1.0/board?startAt={start_at}&maxResults={max_results}\"\n",
    "        response = requests.get(url, auth=HTTPBasicAuth(USERNAME, PASSWORD))\n",
    "\n",
    "        if response.status_code != 200:\n",
    "            print(f\"Error fetching boards: {response.status_code}\")\n",
    "            break\n",
    "\n",
    "        data = response.json()\n",
    "        boards.extend(data['values'])\n",
    "        is_last = data['isLast']\n",
    "        start_at += max_results\n",
    "        time.sleep(1)  # Respect rate limits\n",
    "\n",
    "    return boards\n"
   ],
   "id": "32dc8c68618712c3",
   "outputs": [],
   "execution_count": 4
  },
  {
   "metadata": {
    "ExecuteTime": {
     "end_time": "2025-03-23T17:51:31.531735Z",
     "start_time": "2025-03-23T17:51:31.525361Z"
    }
   },
   "cell_type": "code",
   "source": [
    "# Get sprints for a board\n",
    "def fetch_sprints(board_id):\n",
    "    sprints = []\n",
    "    start_at = 0\n",
    "    max_results = 50\n",
    "    is_last = False\n",
    "\n",
    "    while not is_last:\n",
    "        url = f\"https://issues.apache.org/jira/rest/agile/1.0/board/{board_id}/sprint?startAt={start_at}&maxResults={max_results}\"\n",
    "        response = requests.get(url, auth=HTTPBasicAuth(USERNAME, PASSWORD))\n",
    "\n",
    "        if response.status_code != 200:\n",
    "            # Some boards may not have sprints or might be inaccessible\n",
    "            print(f\"Error fetching sprints for board {board_id}: {response.status_code}\")\n",
    "            break\n",
    "\n",
    "        try:\n",
    "            data = response.json()\n",
    "            sprints.extend(data['values'])\n",
    "            is_last = data.get('isLast', True)\n",
    "            start_at += max_results\n",
    "        except:\n",
    "            break\n",
    "\n",
    "        time.sleep(1)  # Respect rate limits\n",
    "\n",
    "    return sprints\n"
   ],
   "id": "292e9e2f04b12e56",
   "outputs": [],
   "execution_count": 5
  },
  {
   "metadata": {
    "ExecuteTime": {
     "end_time": "2025-03-23T17:51:39.585325Z",
     "start_time": "2025-03-23T17:51:39.579844Z"
    }
   },
   "cell_type": "code",
   "source": [
    "# Get issues for a sprint\n",
    "def fetch_sprint_issues(board_id, sprint_id):\n",
    "    issues = []\n",
    "    start_at = 0\n",
    "    max_results = 50\n",
    "    is_last = False\n",
    "\n",
    "    while not is_last:\n",
    "        url = f\"https://issues.apache.org/jira/rest/agile/1.0/board/{board_id}/sprint/{sprint_id}/issue?startAt={start_at}&maxResults={max_results}\"\n",
    "        response = requests.get(url, auth=HTTPBasicAuth(USERNAME, PASSWORD))\n",
    "\n",
    "        if response.status_code != 200:\n",
    "            print(f\"Error fetching issues for board {board_id}, sprint {sprint_id}: {response.status_code}\")\n",
    "            break\n",
    "\n",
    "        try:\n",
    "            data = response.json()\n",
    "            issues.extend(data['issues'])\n",
    "            is_last = data.get('isLast', True)\n",
    "            start_at += max_results\n",
    "        except:\n",
    "            break\n",
    "\n",
    "        time.sleep(1)  # Respect rate limits\n",
    "\n",
    "    return issues\n",
    "\n"
   ],
   "id": "f8b11c7bae7f4ac4",
   "outputs": [],
   "execution_count": 6
  },
  {
   "metadata": {
    "ExecuteTime": {
     "end_time": "2025-03-23T17:51:40.789543Z",
     "start_time": "2025-03-23T17:51:40.784219Z"
    }
   },
   "cell_type": "code",
   "source": [
    "# Get backlog issues\n",
    "def fetch_backlog_issues(board_id):\n",
    "    issues = []\n",
    "    start_at = 0\n",
    "    max_results = 50\n",
    "    is_last = False\n",
    "\n",
    "    while not is_last:\n",
    "        url = f\"https://issues.apache.org/jira/rest/agile/1.0/board/{board_id}/backlog?startAt={start_at}&maxResults={max_results}\"\n",
    "        response = requests.get(url, auth=HTTPBasicAuth(USERNAME, PASSWORD))\n",
    "\n",
    "        if response.status_code != 200:\n",
    "            print(f\"Error fetching backlog for board {board_id}: {response.status_code}\")\n",
    "            break\n",
    "\n",
    "        try:\n",
    "            data = response.json()\n",
    "            issues.extend(data['issues'])\n",
    "            is_last = data.get('isLast', True)\n",
    "            start_at += max_results\n",
    "        except:\n",
    "            break\n",
    "\n",
    "        time.sleep(1)  # Respect rate limits\n",
    "\n",
    "    return issues\n",
    "\n"
   ],
   "id": "86a76db9c2e0f5aa",
   "outputs": [],
   "execution_count": 7
  },
  {
   "metadata": {
    "ExecuteTime": {
     "end_time": "2025-03-23T17:51:52.320706Z",
     "start_time": "2025-03-23T17:51:41.989794Z"
    }
   },
   "cell_type": "code",
   "source": [
    "print(\"Fetching all boards...\")\n",
    "boards = fetch_all_boards();\n",
    "print(f\"Found {len(boards)} boards\")\n",
    "# print(boards)"
   ],
   "id": "9086b6711f923460",
   "outputs": [
    {
     "name": "stdout",
     "output_type": "stream",
     "text": [
      "Fetching all boards...\n",
      "Found 251 boards\n"
     ]
    }
   ],
   "execution_count": 8
  },
  {
   "metadata": {
    "ExecuteTime": {
     "end_time": "2025-03-23T17:51:53.953197Z",
     "start_time": "2025-03-23T17:51:53.950039Z"
    }
   },
   "cell_type": "code",
   "source": [
    "boards = boards[:10]\n",
    "# print(boards)"
   ],
   "id": "6b6f5647004966f",
   "outputs": [],
   "execution_count": 9
  },
  {
   "metadata": {
    "ExecuteTime": {
     "end_time": "2025-03-23T18:29:51.480373Z",
     "start_time": "2025-03-23T18:29:47.110080Z"
    }
   },
   "cell_type": "code",
   "source": [
    "for board in boards:\n",
    "    board_id = board['id']\n",
    "\n",
    "    if(board[\"type\"] == \"scrum\"):\n",
    "        print(f\"Processing board: {board['name']} (ID: {board_id})\")\n",
    "        # Get sprints\n",
    "        sprints = fetch_sprints(board_id)\n",
    "        print(f\"Found {len(sprints)} sprints\")\n",
    "\n",
    "        for sprint in sprints:\n",
    "            sprint['boardId'] = board_id\n",
    "            all_sprints.append(sprint)\n",
    "\n",
    "            # Get issues for this sprint\n",
    "            sprint_id = sprint['id']\n",
    "            issues = fetch_sprint_issues(board_id, sprint_id)\n",
    "            print(f\"Found {len(issues)} issues\")\n",
    "\n",
    "            for issue in issues:\n",
    "                try:\n",
    "                    dummy_issue = {}\n",
    "                    dummy_issue['boardId'] = board_id\n",
    "                    dummy_issue['sprintId'] = sprint_id\n",
    "                    dummy_issue['key'] = issue['key']\n",
    "                    dummy_issue['priority'] = issue['priority']['name']\n",
    "                    dummy_issue['status'] = issue['status']['name']\n",
    "                    dummy_issue['status_category'] = issue['status']['statusCategory']['name']\n",
    "                    dummy_issue['creator'] = issue['creator']['displayName']\n",
    "                    dummy_issue['reporter'] = issue['reporter']['displayName']\n",
    "                    dummy_issue['closedSprints'] = issue['closedSprints']['id']\n",
    "                    dummy_issue['progress'] = issue['progress']['progress']\n",
    "                    dummy_issue['progress_total'] = issue['progress']['total']\n",
    "                    dummy_issue['worklog'] = issue['progress']['total']\n",
    "                    dummy_issue['issuetype'] = issue['issuetype']['name']\n",
    "                    dummy_issue['project'] = issue['project']['name']\n",
    "                    dummy_issue['created'] = issue['created']\n",
    "                    dummy_issue['updated'] = issue['updated']\n",
    "                    dummy_issue['description'] = issue['description']\n",
    "                    dummy_issue['summary'] = issue['summary']\n",
    "                    dummy_issue['duedate'] = issue['duedate']\n",
    "                    print(dummy_issue)\n",
    "                    all_issues.append(dummy_issue)\n",
    "                except:\n",
    "                    continue\n",
    "\n",
    "\n",
    "\n",
    "\n",
    "        # Get backlog issues\n",
    "        backlog = fetch_backlog_issues(board_id)\n",
    "        print(f\"Found {len(backlog)} backlog issues\")\n",
    "        for issue in backlog:\n",
    "            dummy_backlog_issue = {}\n",
    "            dummy_backlog_issue['boardId'] = board_id\n",
    "            dummy_backlog_issue['isBacklog'] = True\n",
    "\n",
    "\n",
    "            fix_versions = issue[\"fields\"].get(\"fixVersions\", [])\n",
    "            dummy_backlog_issue['fixVersion'] = fix_versions[0][\"name\"] if fix_versions else None\n",
    "            dummy_backlog_issue['priority'] = issue[\"fields\"].get(\"priority\", {}).get(\"name\")\n",
    "            dummy_backlog_issue['assignee'] = issue[\"fields\"].get(\"assignee\", {}).get(\"displayName\")\n",
    "            dummy_backlog_issue['status'] = issue[\"fields\"].get(\"status\", {}).get(\"name\")\n",
    "            dummy_backlog_issue['status_category'] = issue[\"fields\"].get(\"status\", {}).get(\"status_category\", {}).get(\"name\")\n",
    "            dummy_backlog_issue['creator'] = issue[\"fields\"].get(\"creator\", {}).get(\"displayName\")\n",
    "            dummy_backlog_issue['reporter'] = issue[\"fields\"].get(\"reporter\", {}).get(\"displayName\")\n",
    "            dummy_backlog_issue['issuetype'] = issue[\"fields\"].get(\"issuetype\", {}).get(\"name\")\n",
    "            dummy_backlog_issue['project'] = issue[\"fields\"].get(\"project\", {}).get(\"name\")\n",
    "            dummy_backlog_issue['created'] = issue[\"fields\"].get(\"created\")\n",
    "            dummy_backlog_issue['updated'] = issue[\"fields\"].get(\"updated\")\n",
    "            dummy_backlog_issue['description'] = issue[\"fields\"].get(\"description\")\n",
    "            dummy_backlog_issue['summary'] = issue[\"fields\"].get(\"summary\")\n",
    "\n",
    "\n",
    "            all_backlog_issues.append(dummy_backlog_issue)\n",
    "            print(dummy_backlog_issue)\n",
    "            print(\"-------------------\")"
   ],
   "id": "e73bd725dc2289b3",
   "outputs": [
    {
     "name": "stdout",
     "output_type": "stream",
     "text": [
      "Processing board: 0.6.1 (ID: 365)\n",
      "Found 0 sprints\n",
      "Found 50 backlog issues\n",
      "[]\n",
      "-------------------\n",
      "[]\n",
      "-------------------\n",
      "[]\n",
      "-------------------\n",
      "[]\n",
      "-------------------\n",
      "[]\n",
      "-------------------\n",
      "[]\n",
      "-------------------\n",
      "[]\n",
      "-------------------\n",
      "[]\n",
      "-------------------\n",
      "[]\n",
      "-------------------\n",
      "[]\n",
      "-------------------\n",
      "[]\n",
      "-------------------\n",
      "[{'self': 'https://issues.apache.org/jira/rest/api/2/version/12347241', 'id': '12347241', 'description': 'Next Release of the rel/0.6 branch', 'name': '0.6.1', 'archived': False, 'released': True, 'releaseDate': '2020-03-30'}]\n",
      "-------------------\n",
      "[{'self': 'https://issues.apache.org/jira/rest/api/2/version/12347241', 'id': '12347241', 'description': 'Next Release of the rel/0.6 branch', 'name': '0.6.1', 'archived': False, 'released': True, 'releaseDate': '2020-03-30'}]\n",
      "-------------------\n",
      "[{'self': 'https://issues.apache.org/jira/rest/api/2/version/12347241', 'id': '12347241', 'description': 'Next Release of the rel/0.6 branch', 'name': '0.6.1', 'archived': False, 'released': True, 'releaseDate': '2020-03-30'}]\n",
      "-------------------\n",
      "[{'self': 'https://issues.apache.org/jira/rest/api/2/version/12347241', 'id': '12347241', 'description': 'Next Release of the rel/0.6 branch', 'name': '0.6.1', 'archived': False, 'released': True, 'releaseDate': '2020-03-30'}]\n",
      "-------------------\n",
      "[{'self': 'https://issues.apache.org/jira/rest/api/2/version/12347241', 'id': '12347241', 'description': 'Next Release of the rel/0.6 branch', 'name': '0.6.1', 'archived': False, 'released': True, 'releaseDate': '2020-03-30'}]\n",
      "-------------------\n",
      "[]\n",
      "-------------------\n",
      "[]\n",
      "-------------------\n",
      "[]\n",
      "-------------------\n",
      "[]\n",
      "-------------------\n",
      "[]\n",
      "-------------------\n",
      "[]\n",
      "-------------------\n",
      "[]\n",
      "-------------------\n",
      "[]\n",
      "-------------------\n",
      "[]\n",
      "-------------------\n",
      "[]\n",
      "-------------------\n",
      "[]\n",
      "-------------------\n",
      "[]\n",
      "-------------------\n",
      "[]\n",
      "-------------------\n",
      "[]\n",
      "-------------------\n",
      "[]\n",
      "-------------------\n",
      "[]\n",
      "-------------------\n",
      "[]\n",
      "-------------------\n",
      "[]\n",
      "-------------------\n",
      "[]\n",
      "-------------------\n",
      "[]\n",
      "-------------------\n",
      "[]\n",
      "-------------------\n",
      "[]\n",
      "-------------------\n",
      "[]\n",
      "-------------------\n",
      "[]\n",
      "-------------------\n",
      "[]\n",
      "-------------------\n",
      "[]\n",
      "-------------------\n",
      "[]\n",
      "-------------------\n",
      "[]\n",
      "-------------------\n",
      "[]\n",
      "-------------------\n",
      "[]\n",
      "-------------------\n",
      "[]\n",
      "-------------------\n",
      "[]\n",
      "-------------------\n",
      "[]\n",
      "-------------------\n",
      "[]\n",
      "-------------------\n"
     ]
    }
   ],
   "execution_count": 15
  },
  {
   "metadata": {
    "ExecuteTime": {
     "end_time": "2025-03-16T16:44:31.976192Z",
     "start_time": "2025-03-16T16:44:19.507579Z"
    }
   },
   "cell_type": "code",
   "source": [
    "# Save to files\n",
    "with open('apache_boards.json', 'w') as f:\n",
    "    json.dump(all_boards, f)\n",
    "\n",
    "with open('apache_sprints.json', 'w') as f:\n",
    "    json.dump(all_sprints, f)\n",
    "\n",
    "with open('apache_sprint_issues.json', 'w') as f:\n",
    "    json.dump(all_issues, f)\n",
    "\n",
    "with open('apache_backlog_issues.json', 'w') as f:\n",
    "    json.dump(all_backlog_issues, f)"
   ],
   "id": "527420a76ff9ede1",
   "outputs": [],
   "execution_count": 33
  },
  {
   "metadata": {
    "ExecuteTime": {
     "end_time": "2025-03-16T16:44:54.312694Z",
     "start_time": "2025-03-16T16:44:50.178715Z"
    }
   },
   "cell_type": "code",
   "source": [
    "# Create DataFrames for analysis\n",
    "boards_df = pd.json_normalize(all_boards)\n",
    "sprints_df = pd.json_normalize(all_sprints)\n",
    "issues_df = pd.json_normalize(all_issues)\n",
    "backlog_df = pd.json_normalize(all_backlog_issues)"
   ],
   "id": "5e263f77ede7dbd1",
   "outputs": [],
   "execution_count": 34
  },
  {
   "metadata": {
    "ExecuteTime": {
     "end_time": "2025-03-16T10:13:40.984849Z",
     "start_time": "2025-03-16T10:13:40.915814Z"
    }
   },
   "cell_type": "code",
   "source": [
    "# boards_df = pd.DataFrame(all_boards);\n",
    "# sprints_df = pd.DataFrame(all_sprints);\n",
    "# issues_df = pd.DataFrame(all_issues);\n",
    "# backlog_df = pd.DataFrame(all_backlog_issues);"
   ],
   "id": "422a9fe27dbf1f1a",
   "outputs": [],
   "execution_count": 31
  },
  {
   "metadata": {
    "ExecuteTime": {
     "end_time": "2025-03-16T16:45:20.920056Z",
     "start_time": "2025-03-16T16:45:06.351867Z"
    }
   },
   "cell_type": "code",
   "source": [
    "# Save as CSV\n",
    "boards_df.to_csv('./data/apache_boards.csv', index=False)\n",
    "sprints_df.to_csv('./data/apache_sprints.csv', index=False)\n",
    "issues_df.to_csv('./data/apache_sprint_issues.csv', index=False)\n",
    "backlog_df.to_csv('./data/apache_backlog_issues.csv', index=False)"
   ],
   "id": "648916d38086e7b2",
   "outputs": [],
   "execution_count": 35
  }
 ],
 "metadata": {
  "kernelspec": {
   "display_name": "Python 3",
   "language": "python",
   "name": "python3"
  },
  "language_info": {
   "codemirror_mode": {
    "name": "ipython",
    "version": 2
   },
   "file_extension": ".py",
   "mimetype": "text/x-python",
   "name": "python",
   "nbconvert_exporter": "python",
   "pygments_lexer": "ipython2",
   "version": "2.7.6"
  }
 },
 "nbformat": 4,
 "nbformat_minor": 5
}
