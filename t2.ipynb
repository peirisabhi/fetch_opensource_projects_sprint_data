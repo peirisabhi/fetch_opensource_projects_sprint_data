{
 "cells": [
  {
   "cell_type": "code",
   "id": "initial_id",
   "metadata": {
    "collapsed": true,
    "ExecuteTime": {
     "end_time": "2025-03-27T03:23:56.930608Z",
     "start_time": "2025-03-27T03:23:56.468766Z"
    }
   },
   "source": [
    "import requests\n",
    "import pandas as pd\n",
    "import time\n",
    "import json\n",
    "\n",
    "from requests.auth import HTTPBasicAuth"
   ],
   "outputs": [],
   "execution_count": 1
  },
  {
   "metadata": {
    "ExecuteTime": {
     "end_time": "2025-03-27T03:24:04.901708Z",
     "start_time": "2025-03-27T03:24:04.898993Z"
    }
   },
   "cell_type": "code",
   "source": [
    "USERNAME = \"feenionloyed\"\n",
    "PASSWORD = \"2001adp@549\""
   ],
   "id": "ea78aed53fb8271d",
   "outputs": [],
   "execution_count": 2
  },
  {
   "metadata": {
    "ExecuteTime": {
     "end_time": "2025-03-27T03:24:05.687597Z",
     "start_time": "2025-03-27T03:24:05.684068Z"
    }
   },
   "cell_type": "code",
   "source": [
    "# Store all data\n",
    "all_boards = []\n",
    "all_sprints = []\n",
    "all_issues = []\n",
    "all_backlog_issues = []"
   ],
   "id": "23e5fea93774e6f2",
   "outputs": [],
   "execution_count": 3
  },
  {
   "metadata": {
    "ExecuteTime": {
     "end_time": "2025-03-27T03:24:06.200242Z",
     "start_time": "2025-03-27T03:24:06.193642Z"
    }
   },
   "cell_type": "code",
   "source": [
    "# Get all boards\n",
    "def fetch_all_boards():\n",
    "    boards = []\n",
    "    start_at = 0\n",
    "    max_results = 50\n",
    "    is_last = False\n",
    "\n",
    "    while not is_last:\n",
    "        url = f\"https://issues.apache.org/jira/rest/agile/1.0/board?startAt={start_at}&maxResults={max_results}\"\n",
    "        response = requests.get(url, auth=HTTPBasicAuth(USERNAME, PASSWORD))\n",
    "\n",
    "        if response.status_code != 200:\n",
    "            print(f\"Error fetching boards: {response.status_code}\")\n",
    "            break\n",
    "\n",
    "        data = response.json()\n",
    "        boards.extend(data['values'])\n",
    "        is_last = data['isLast']\n",
    "        start_at += max_results\n",
    "        time.sleep(1)  # Respect rate limits\n",
    "\n",
    "    return boards\n"
   ],
   "id": "32dc8c68618712c3",
   "outputs": [],
   "execution_count": 4
  },
  {
   "metadata": {
    "ExecuteTime": {
     "end_time": "2025-03-27T03:24:06.743360Z",
     "start_time": "2025-03-27T03:24:06.738750Z"
    }
   },
   "cell_type": "code",
   "source": [
    "# Get sprints for a board\n",
    "def fetch_sprints(board_id):\n",
    "    sprints = []\n",
    "    start_at = 0\n",
    "    max_results = 50\n",
    "    is_last = False\n",
    "\n",
    "    while not is_last:\n",
    "        url = f\"https://issues.apache.org/jira/rest/agile/1.0/board/{board_id}/sprint?startAt={start_at}&maxResults={max_results}\"\n",
    "        response = requests.get(url, auth=HTTPBasicAuth(USERNAME, PASSWORD))\n",
    "\n",
    "        if response.status_code != 200:\n",
    "            # Some boards may not have sprints or might be inaccessible\n",
    "            print(f\"Error fetching sprints for board {board_id}: {response.status_code}\")\n",
    "            break\n",
    "\n",
    "        try:\n",
    "            data = response.json()\n",
    "            sprints.extend(data['values'])\n",
    "            is_last = data.get('isLast', True)\n",
    "            start_at += max_results\n",
    "        except:\n",
    "            break\n",
    "\n",
    "        time.sleep(1)  # Respect rate limits\n",
    "\n",
    "    return sprints\n"
   ],
   "id": "292e9e2f04b12e56",
   "outputs": [],
   "execution_count": 5
  },
  {
   "metadata": {
    "ExecuteTime": {
     "end_time": "2025-03-27T03:24:07.251109Z",
     "start_time": "2025-03-27T03:24:07.244579Z"
    }
   },
   "cell_type": "code",
   "source": [
    "# Get issues for a sprint\n",
    "def fetch_sprint_issues(board_id, sprint_id):\n",
    "    issues = []\n",
    "    start_at = 0\n",
    "    max_results = 50\n",
    "    is_last = False\n",
    "\n",
    "    while not is_last:\n",
    "        url = f\"https://issues.apache.org/jira/rest/agile/1.0/board/{board_id}/sprint/{sprint_id}/issue?startAt={start_at}&maxResults={max_results}\"\n",
    "        response = requests.get(url, auth=HTTPBasicAuth(USERNAME, PASSWORD))\n",
    "\n",
    "        if response.status_code != 200:\n",
    "            print(f\"Error fetching issues for board {board_id}, sprint {sprint_id}: {response.status_code}\")\n",
    "            break\n",
    "\n",
    "        try:\n",
    "            data = response.json()\n",
    "            issues.extend(data['issues'])\n",
    "            is_last = data.get('isLast', True)\n",
    "            start_at += max_results\n",
    "        except:\n",
    "            break\n",
    "\n",
    "        time.sleep(1)  # Respect rate limits\n",
    "\n",
    "    return issues\n",
    "\n"
   ],
   "id": "f8b11c7bae7f4ac4",
   "outputs": [],
   "execution_count": 6
  },
  {
   "metadata": {
    "ExecuteTime": {
     "end_time": "2025-03-27T03:24:07.790697Z",
     "start_time": "2025-03-27T03:24:07.782462Z"
    }
   },
   "cell_type": "code",
   "source": [
    "# Get backlog issues\n",
    "def fetch_backlog_issues(board_id):\n",
    "    issues = []\n",
    "    start_at = 0\n",
    "    max_results = 50\n",
    "    is_last = False\n",
    "\n",
    "    while not is_last:\n",
    "        url = f\"https://issues.apache.org/jira/rest/agile/1.0/board/{board_id}/backlog?startAt={start_at}&maxResults={max_results}\"\n",
    "        response = requests.get(url, auth=HTTPBasicAuth(USERNAME, PASSWORD))\n",
    "\n",
    "        if response.status_code != 200:\n",
    "            print(f\"Error fetching backlog for board {board_id}: {response.status_code}\")\n",
    "            break\n",
    "\n",
    "        try:\n",
    "            data = response.json()\n",
    "            issues.extend(data['issues'])\n",
    "            is_last = data.get('isLast', True)\n",
    "            start_at += max_results\n",
    "        except:\n",
    "            break\n",
    "\n",
    "        time.sleep(1)  # Respect rate limits\n",
    "\n",
    "    return issues\n",
    "\n"
   ],
   "id": "86a76db9c2e0f5aa",
   "outputs": [],
   "execution_count": 7
  },
  {
   "metadata": {
    "ExecuteTime": {
     "end_time": "2025-03-27T07:28:18.061803Z",
     "start_time": "2025-03-27T07:28:08.357736Z"
    }
   },
   "cell_type": "code",
   "source": [
    "print(\"Fetching all boards...\")\n",
    "boards = fetch_all_boards()\n",
    "print(f\"Found {len(boards)} boards\")\n",
    "# print(boards)"
   ],
   "id": "9086b6711f923460",
   "outputs": [
    {
     "name": "stdout",
     "output_type": "stream",
     "text": [
      "Fetching all boards...\n",
      "Found 251 boards\n"
     ]
    }
   ],
   "execution_count": 22
  },
  {
   "metadata": {
    "ExecuteTime": {
     "end_time": "2025-03-27T03:25:14.446469Z",
     "start_time": "2025-03-27T03:25:14.442256Z"
    }
   },
   "cell_type": "code",
   "source": [
    "# boards = boards[:20]\n",
    "# print(boards)"
   ],
   "id": "6b6f5647004966f",
   "outputs": [],
   "execution_count": 9
  },
  {
   "metadata": {
    "jupyter": {
     "is_executing": true
    },
    "ExecuteTime": {
     "start_time": "2025-03-27T08:57:32.504818Z"
    }
   },
   "cell_type": "code",
   "source": [
    "for board in boards:\n",
    "    board_id = board['id']\n",
    "\n",
    "    if(board[\"type\"] == \"scrum\"):\n",
    "        print(f\"Processing board: {board['name']} (ID: {board_id})\")\n",
    "        # Get sprints\n",
    "        sprints = fetch_sprints(board_id)\n",
    "        print(f\"Found {len(sprints)} sprints\")\n",
    "\n",
    "        for sprint in sprints:\n",
    "            sprint['boardId'] = board_id\n",
    "            all_sprints.append(sprint)\n",
    "\n",
    "            # Get issues for this sprint\n",
    "            sprint_id = sprint['id']\n",
    "            issues = fetch_sprint_issues(board_id, sprint_id)\n",
    "            print(f\"Found {len(issues)} issues\")\n",
    "\n",
    "            for issue in issues:\n",
    "                dummy_issue = {}\n",
    "                dummy_issue['boardId'] = board_id\n",
    "                dummy_issue['sprintId'] = sprint_id\n",
    "                dummy_issue['key'] = issue['key']\n",
    "\n",
    "                # if \"fixVersions\" in issue['fields']:\n",
    "                #     dummy_issue['fixVersion'] = issue['fixVersions'][0].get('name')\n",
    "                # else:\n",
    "                #     dummy_issue['fixVersion'] = None\n",
    "                #\n",
    "                # issue[\"fields\"].get(\"fixVersions\") if issue[\"fields\"].get(\"fixVersions\") else None\n",
    "                try:\n",
    "                    dummy_issue['fixVersion'] = issue[\"fields\"].get(\"fixVersions\", [{}])[0].get(\"name\", None)\n",
    "                except:\n",
    "                    dummy_issue['fixVersion'] = None\n",
    "\n",
    "                dummy_issue['priority'] = issue[\"fields\"]['priority']['name']\n",
    "                dummy_issue['status'] = issue[\"fields\"]['status']['name']\n",
    "                dummy_issue['status_category'] = issue[\"fields\"]['status']['statusCategory']['name']\n",
    "                dummy_issue['creator'] = issue[\"fields\"]['creator']['displayName']\n",
    "                dummy_issue['reporter'] = issue[\"fields\"]['reporter']['displayName']\n",
    "                # dummy_issue['closedSprint'] = issue[\"fields\"]['closedSprints']['id']\n",
    "\n",
    "                dummy_issue['progress'] = issue[\"fields\"]['progress']['progress']\n",
    "                dummy_issue['progress_total'] = issue[\"fields\"]['progress']['total']\n",
    "                dummy_issue['worklog'] = issue[\"fields\"]['progress']['total']\n",
    "                dummy_issue['issuetype'] = issue[\"fields\"]['issuetype']['name']\n",
    "                dummy_issue['project'] = issue[\"fields\"]['project']['name']\n",
    "                dummy_issue['created'] = issue[\"fields\"]['created']\n",
    "                dummy_issue['updated'] = issue[\"fields\"]['updated']\n",
    "                dummy_issue['description'] = issue[\"fields\"]['description']\n",
    "                dummy_issue['summary'] = issue[\"fields\"]['summary']\n",
    "                dummy_issue['duedate'] = issue[\"fields\"]['duedate']\n",
    "                # print(dummy_issue)\n",
    "                all_issues.append(dummy_issue)\n",
    "\n",
    "\n",
    "\n",
    "\n",
    "\n",
    "        # Get backlog issues\n",
    "        backlog = fetch_backlog_issues(board_id)\n",
    "        # backlog = []\n",
    "        print(f\"Found {len(backlog)} backlog issues\")\n",
    "        for issue in backlog:\n",
    "            # try:\n",
    "            dummy_backlog_issue = {}\n",
    "            dummy_backlog_issue['boardId'] = board_id\n",
    "            dummy_backlog_issue['isBacklog'] = True\n",
    "\n",
    "\n",
    "\n",
    "\n",
    "            try:\n",
    "                fix_versions = issue[\"fields\"].get(\"fixVersions\", [])\n",
    "                dummy_backlog_issue['fixVersion'] = fix_versions[0][\"name\"] if fix_versions else None\n",
    "            except:\n",
    "                dummy_backlog_issue['fixVersion'] = None\n",
    "\n",
    "            try:\n",
    "                dummy_backlog_issue['priority'] = issue[\"fields\"].get(\"priority\", {}).get(\"name\")\n",
    "            except:\n",
    "                dummy_backlog_issue['priority'] = None\n",
    "\n",
    "            try:\n",
    "                dummy_backlog_issue['assignee'] = issue[\"fields\"].get(\"assignee\") if issue[\"fields\"].get(\"displayName\") else None\n",
    "            except:\n",
    "                dummy_backlog_issue['assignee'] = None\n",
    "\n",
    "            try:\n",
    "                dummy_backlog_issue['status'] = issue[\"fields\"].get(\"status\", {}).get(\"name\")\n",
    "            except:\n",
    "                dummy_backlog_issue['status'] = None\n",
    "\n",
    "            try:\n",
    "                dummy_backlog_issue['status_category'] = issue[\"fields\"].get(\"status\", {}).get(\"status_category\", {}).get(\"name\")\n",
    "            except:\n",
    "                dummy_backlog_issue['status_category'] = None\n",
    "\n",
    "            try:\n",
    "                dummy_backlog_issue['creator'] = issue[\"fields\"].get(\"creator\", {}).get(\"displayName\")\n",
    "            except:\n",
    "                dummy_backlog_issue['creator'] = None\n",
    "\n",
    "            try:\n",
    "                dummy_backlog_issue['reporter'] = issue[\"fields\"].get(\"reporter\", {}).get(\"displayName\")\n",
    "            except:\n",
    "                dummy_backlog_issue['reporter'] = None\n",
    "\n",
    "            try:\n",
    "                dummy_backlog_issue['issuetype'] = issue[\"fields\"].get(\"issuetype\", {}).get(\"name\")\n",
    "            except:\n",
    "                dummy_backlog_issue['issuetype'] = None\n",
    "\n",
    "            try:\n",
    "                dummy_backlog_issue['project'] = issue[\"fields\"].get(\"project\", {}).get(\"name\")\n",
    "            except:\n",
    "                dummy_backlog_issue['project'] = None\n",
    "\n",
    "            try:\n",
    "                dummy_backlog_issue['created'] = issue[\"fields\"].get(\"created\", None)\n",
    "            except:\n",
    "                dummy_backlog_issue['created'] = None\n",
    "\n",
    "            try:\n",
    "                dummy_backlog_issue['updated'] = issue[\"fields\"].get(\"updated\", None)\n",
    "            except:\n",
    "                dummy_backlog_issue['updated'] = None\n",
    "\n",
    "            try:\n",
    "                dummy_backlog_issue['description'] = issue[\"fields\"].get(\"description\", None)\n",
    "            except:\n",
    "                dummy_backlog_issue['description'] = None\n",
    "\n",
    "            try:\n",
    "                dummy_backlog_issue['summary'] = issue[\"fields\"].get(\"summary\", None)\n",
    "            except:\n",
    "                dummy_backlog_issue['summary'] = None\n",
    "\n",
    "            # except Exception as e:\n",
    "            #         print('error on - ' + str(e))\n",
    "            #         continue\n",
    "\n",
    "            all_backlog_issues.append(dummy_backlog_issue)\n",
    "            # print(dummy_backlog_issue)\n",
    "            # print(\"-------------------\")"
   ],
   "id": "e73bd725dc2289b3",
   "outputs": [
    {
     "name": "stdout",
     "output_type": "stream",
     "text": [
      "Processing board: 0.6.1 (ID: 365)\n",
      "Found 0 sprints\n",
      "Found 50 backlog issues\n",
      "Processing board: Apache Airavata (ID: 75)\n",
      "Found 0 sprints\n",
      "Found 50 backlog issues\n",
      "Processing board: Apache Aurora Twitter Scrum (ID: 37)\n",
      "Found 40 sprints\n",
      "Found 18 issues\n",
      "Found 22 issues\n",
      "Found 1 issues\n",
      "Found 31 issues\n",
      "Found 9 issues\n",
      "Found 35 issues\n",
      "Found 22 issues\n",
      "Found 46 issues\n",
      "Found 27 issues\n",
      "Found 30 issues\n",
      "Found 14 issues\n",
      "Found 26 issues\n",
      "Found 10 issues\n",
      "Found 17 issues\n",
      "Found 22 issues\n",
      "Found 20 issues\n",
      "Found 16 issues\n",
      "Found 14 issues\n",
      "Found 6 issues\n",
      "Found 6 issues\n",
      "Found 23 issues\n",
      "Found 13 issues\n",
      "Found 5 issues\n",
      "Found 7 issues\n",
      "Found 10 issues\n",
      "Found 12 issues\n",
      "Found 8 issues\n",
      "Found 16 issues\n",
      "Found 15 issues\n",
      "Found 12 issues\n",
      "Found 4 issues\n",
      "Found 2 issues\n",
      "Found 5 issues\n",
      "Found 4 issues\n",
      "Found 2 issues\n",
      "Found 3 issues\n",
      "Found 7 issues\n",
      "Found 1 issues\n",
      "Found 6 issues\n",
      "Found 7 issues\n",
      "Found 35 backlog issues\n",
      "Processing board: Apache DataLab (ID: 307)\n",
      "Found 19 sprints\n",
      "Found 50 issues\n",
      "Found 50 issues\n",
      "Found 50 issues\n",
      "Found 50 issues\n",
      "Found 50 issues\n",
      "Found 50 issues\n",
      "Found 50 issues\n",
      "Found 50 issues\n",
      "Found 0 issues\n",
      "Found 26 issues\n",
      "Found 25 issues\n",
      "Found 23 issues\n",
      "Found 18 issues\n",
      "Found 19 issues\n",
      "Found 27 issues\n",
      "Found 50 issues\n",
      "Found 0 issues\n",
      "Found 50 issues\n",
      "Found 3 issues\n",
      "Found 50 backlog issues\n",
      "Processing board: Apache Eagle (ID: 104)\n",
      "Found 0 sprints\n",
      "Found 50 backlog issues\n",
      "Processing board: Apache Fineract CN Scrum Board (ID: 382)\n",
      "Found 0 sprints\n",
      "Found 50 backlog issues\n",
      "Processing board: Apache Fineract Scrum Board (ID: 236)\n",
      "Found 1 sprints\n",
      "Found 1 issues\n",
      "Found 50 backlog issues\n",
      "Processing board: Apache IoTDB (ID: 308)\n",
      "Found 87 sprints\n",
      "Found 7 issues\n",
      "Found 2 issues\n",
      "Found 1 issues\n",
      "Found 41 issues\n",
      "Found 12 issues\n",
      "Found 21 issues\n",
      "Found 22 issues\n",
      "Found 17 issues\n",
      "Found 12 issues\n",
      "Found 3 issues\n"
     ]
    }
   ],
   "execution_count": null
  },
  {
   "metadata": {},
   "cell_type": "code",
   "outputs": [],
   "execution_count": null,
   "source": "",
   "id": "53d14713336bebd5"
  },
  {
   "metadata": {
    "ExecuteTime": {
     "end_time": "2025-03-27T07:22:21.956175Z",
     "start_time": "2025-03-27T07:22:21.944802Z"
    }
   },
   "cell_type": "code",
   "source": [
    "print(f\"Found Total sprints {len(all_sprints)} \")\n",
    "print(f\"Found Total Boards {len(boards)} \")\n",
    "print(f\"Found Total Issues {len(all_issues)} \")\n",
    "print(f\"Found Total Backlog issues {len(all_backlog_issues)} \")"
   ],
   "id": "c97454b211ec74cc",
   "outputs": [
    {
     "name": "stdout",
     "output_type": "stream",
     "text": [
      "Found Total sprints 1415 \n",
      "Found Total Boards 0 \n",
      "Found Total Issues 22440 \n",
      "Found Total Backlog issues 0 \n"
     ]
    }
   ],
   "execution_count": 20
  },
  {
   "metadata": {
    "ExecuteTime": {
     "end_time": "2025-03-27T07:16:26.595663Z",
     "start_time": "2025-03-27T07:16:26.104293Z"
    }
   },
   "cell_type": "code",
   "source": [
    "# Save to files\n",
    "with open('apache_boards.json', 'w') as f:\n",
    "    json.dump(boards, f)\n",
    "\n",
    "with open('apache_sprints.json', 'w') as f:\n",
    "    json.dump(all_sprints, f)\n",
    "\n",
    "with open('apache_sprint_issues.json', 'w') as f:\n",
    "    json.dump(all_issues, f)\n",
    "\n",
    "with open('apache_backlog_issues.json', 'w') as f:\n",
    "    json.dump(all_backlog_issues, f)"
   ],
   "id": "527420a76ff9ede1",
   "outputs": [],
   "execution_count": 17
  },
  {
   "metadata": {
    "ExecuteTime": {
     "end_time": "2025-03-27T07:17:14.728011Z",
     "start_time": "2025-03-27T07:17:14.452200Z"
    }
   },
   "cell_type": "code",
   "source": [
    "# Create DataFrames for analysis\n",
    "boards_df = pd.json_normalize(boards)\n",
    "sprints_df = pd.json_normalize(all_sprints)\n",
    "issues_df = pd.json_normalize(all_issues)\n",
    "backlog_df = pd.json_normalize(all_backlog_issues)"
   ],
   "id": "5e263f77ede7dbd1",
   "outputs": [],
   "execution_count": 18
  },
  {
   "metadata": {
    "ExecuteTime": {
     "end_time": "2025-03-16T10:13:40.984849Z",
     "start_time": "2025-03-16T10:13:40.915814Z"
    }
   },
   "cell_type": "code",
   "source": [
    "# boards_df = pd.DataFrame(boards);\n",
    "# sprints_df = pd.DataFrame(all_sprints);\n",
    "# issues_df = pd.DataFrame(all_issues);\n",
    "# backlog_df = pd.DataFrame(all_backlog_issues);"
   ],
   "id": "422a9fe27dbf1f1a",
   "outputs": [],
   "execution_count": 31
  },
  {
   "metadata": {
    "ExecuteTime": {
     "end_time": "2025-03-27T07:17:34.562313Z",
     "start_time": "2025-03-27T07:17:33.934157Z"
    }
   },
   "cell_type": "code",
   "source": [
    "# Save as CSV\n",
    "boards_df.to_csv('./data/apache_boards.csv', index=False)\n",
    "sprints_df.to_csv('./data/apache_sprints.csv', index=False)\n",
    "issues_df.to_csv('./data/apache_sprint_issues.csv', index=False)\n",
    "backlog_df.to_csv('./data/apache_backlog_issues.csv', index=False)"
   ],
   "id": "648916d38086e7b2",
   "outputs": [],
   "execution_count": 19
  }
 ],
 "metadata": {
  "kernelspec": {
   "display_name": "Python 3",
   "language": "python",
   "name": "python3"
  },
  "language_info": {
   "codemirror_mode": {
    "name": "ipython",
    "version": 2
   },
   "file_extension": ".py",
   "mimetype": "text/x-python",
   "name": "python",
   "nbconvert_exporter": "python",
   "pygments_lexer": "ipython2",
   "version": "2.7.6"
  }
 },
 "nbformat": 4,
 "nbformat_minor": 5
}
